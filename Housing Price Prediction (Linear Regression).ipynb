{
  "nbformat": 4,
  "nbformat_minor": 0,
  "metadata": {
    "colab": {
      "name": "Housing Price Prediction (Linear Regression)",
      "provenance": [],
      "authorship_tag": "ABX9TyMMh/JIMmXi2wzf9TLXsM+N",
      "include_colab_link": true
    },
    "kernelspec": {
      "name": "python3",
      "display_name": "Python 3"
    },
    "accelerator": "GPU"
  },
  "cells": [
    {
      "cell_type": "markdown",
      "metadata": {
        "id": "view-in-github",
        "colab_type": "text"
      },
      "source": [
        "<a href=\"https://colab.research.google.com/github/tianfa-lee/Housing-Price-Prediction/blob/main/Housing%20Price%20Prediction%20(Linear%20Regression).ipynb\" target=\"_parent\"><img src=\"https://colab.research.google.com/assets/colab-badge.svg\" alt=\"Open In Colab\"/></a>"
      ]
    },
    {
      "cell_type": "code",
      "metadata": {
        "id": "3fSLOHyqRZ0_",
        "colab": {
          "base_uri": "https://localhost:8080/"
        },
        "outputId": "e8f77773-61b0-41e7-a0c0-b15fa673ffc4"
      },
      "source": [
        "pip install --upgrade category_encoders"
      ],
      "execution_count": null,
      "outputs": [
        {
          "output_type": "stream",
          "text": [
            "Collecting category_encoders\n",
            "\u001b[?25l  Downloading https://files.pythonhosted.org/packages/44/57/fcef41c248701ee62e8325026b90c432adea35555cbc870aff9cfba23727/category_encoders-2.2.2-py2.py3-none-any.whl (80kB)\n",
            "\r\u001b[K     |████                            | 10kB 18.7MB/s eta 0:00:01\r\u001b[K     |████████▏                       | 20kB 1.7MB/s eta 0:00:01\r\u001b[K     |████████████▏                   | 30kB 2.2MB/s eta 0:00:01\r\u001b[K     |████████████████▎               | 40kB 2.5MB/s eta 0:00:01\r\u001b[K     |████████████████████▎           | 51kB 1.9MB/s eta 0:00:01\r\u001b[K     |████████████████████████▍       | 61kB 2.2MB/s eta 0:00:01\r\u001b[K     |████████████████████████████▍   | 71kB 2.5MB/s eta 0:00:01\r\u001b[K     |████████████████████████████████| 81kB 2.3MB/s \n",
            "\u001b[?25hRequirement already satisfied, skipping upgrade: scipy>=1.0.0 in /usr/local/lib/python3.6/dist-packages (from category_encoders) (1.4.1)\n",
            "Requirement already satisfied, skipping upgrade: scikit-learn>=0.20.0 in /usr/local/lib/python3.6/dist-packages (from category_encoders) (0.22.2.post1)\n",
            "Requirement already satisfied, skipping upgrade: pandas>=0.21.1 in /usr/local/lib/python3.6/dist-packages (from category_encoders) (1.1.4)\n",
            "Requirement already satisfied, skipping upgrade: patsy>=0.5.1 in /usr/local/lib/python3.6/dist-packages (from category_encoders) (0.5.1)\n",
            "Requirement already satisfied, skipping upgrade: statsmodels>=0.9.0 in /usr/local/lib/python3.6/dist-packages (from category_encoders) (0.10.2)\n",
            "Requirement already satisfied, skipping upgrade: numpy>=1.14.0 in /usr/local/lib/python3.6/dist-packages (from category_encoders) (1.18.5)\n",
            "Requirement already satisfied, skipping upgrade: joblib>=0.11 in /usr/local/lib/python3.6/dist-packages (from scikit-learn>=0.20.0->category_encoders) (0.17.0)\n",
            "Requirement already satisfied, skipping upgrade: pytz>=2017.2 in /usr/local/lib/python3.6/dist-packages (from pandas>=0.21.1->category_encoders) (2018.9)\n",
            "Requirement already satisfied, skipping upgrade: python-dateutil>=2.7.3 in /usr/local/lib/python3.6/dist-packages (from pandas>=0.21.1->category_encoders) (2.8.1)\n",
            "Requirement already satisfied, skipping upgrade: six in /usr/local/lib/python3.6/dist-packages (from patsy>=0.5.1->category_encoders) (1.15.0)\n",
            "Installing collected packages: category-encoders\n",
            "Successfully installed category-encoders-2.2.2\n"
          ],
          "name": "stdout"
        }
      ]
    },
    {
      "cell_type": "code",
      "metadata": {
        "id": "7Z-ANKtzJuf5",
        "colab": {
          "base_uri": "https://localhost:8080/"
        },
        "outputId": "4fb7e510-9f37-4d10-d53b-ba4b26d49d01"
      },
      "source": [
        "from google.colab import drive\n",
        "drive.mount(\"/content/gdrive\")\n",
        "\n",
        "import pandas as pd  \n",
        "import numpy as np  \n",
        "import matplotlib.pyplot as plt  \n",
        "import seaborn as seabornInstance \n",
        "from sklearn.model_selection import train_test_split \n",
        "from sklearn.linear_model import LinearRegression\n",
        "from sklearn import metrics\n",
        "import category_encoders as ce\n",
        "%matplotlib inline"
      ],
      "execution_count": null,
      "outputs": [
        {
          "output_type": "stream",
          "text": [
            "Mounted at /content/gdrive\n"
          ],
          "name": "stdout"
        },
        {
          "output_type": "stream",
          "text": [
            "/usr/local/lib/python3.6/dist-packages/statsmodels/tools/_testing.py:19: FutureWarning: pandas.util.testing is deprecated. Use the functions in the public API at pandas.testing instead.\n",
            "  import pandas.util.testing as tm\n"
          ],
          "name": "stderr"
        }
      ]
    },
    {
      "cell_type": "code",
      "metadata": {
        "id": "LY8PWoH-FRIt",
        "colab": {
          "base_uri": "https://localhost:8080/"
        },
        "outputId": "c994bdfd-10d2-499b-c28f-936ac3f8dd35"
      },
      "source": [
        "import os\n",
        "os.chdir(\"/content/gdrive/My Drive/EE4483 Assignment/Option 1/data\")\n",
        "\n",
        "# Load training training & testing dataset and remove Id \n",
        "train_input = pd.read_csv('./train.csv')\n",
        "train_input.pop('Id')"
      ],
      "execution_count": null,
      "outputs": [
        {
          "output_type": "execute_result",
          "data": {
            "text/plain": [
              "0         1\n",
              "1         2\n",
              "2         3\n",
              "3         4\n",
              "4         5\n",
              "       ... \n",
              "995     996\n",
              "996     997\n",
              "997     998\n",
              "998     999\n",
              "999    1000\n",
              "Name: Id, Length: 1000, dtype: int64"
            ]
          },
          "metadata": {
            "tags": []
          },
          "execution_count": 4
        }
      ]
    },
    {
      "cell_type": "code",
      "metadata": {
        "id": "BithEtvb7JaM",
        "colab": {
          "base_uri": "https://localhost:8080/",
          "height": 419
        },
        "outputId": "abcab735-10f4-407c-ba57-65feeb909649"
      },
      "source": [
        "train_input"
      ],
      "execution_count": null,
      "outputs": [
        {
          "output_type": "execute_result",
          "data": {
            "text/html": [
              "<div>\n",
              "<style scoped>\n",
              "    .dataframe tbody tr th:only-of-type {\n",
              "        vertical-align: middle;\n",
              "    }\n",
              "\n",
              "    .dataframe tbody tr th {\n",
              "        vertical-align: top;\n",
              "    }\n",
              "\n",
              "    .dataframe thead th {\n",
              "        text-align: right;\n",
              "    }\n",
              "</style>\n",
              "<table border=\"1\" class=\"dataframe\">\n",
              "  <thead>\n",
              "    <tr style=\"text-align: right;\">\n",
              "      <th></th>\n",
              "      <th>BldgType</th>\n",
              "      <th>OverallQual</th>\n",
              "      <th>GrLivArea</th>\n",
              "      <th>GarageArea</th>\n",
              "      <th>SalePrice</th>\n",
              "    </tr>\n",
              "  </thead>\n",
              "  <tbody>\n",
              "    <tr>\n",
              "      <th>0</th>\n",
              "      <td>1Fam</td>\n",
              "      <td>7</td>\n",
              "      <td>1710</td>\n",
              "      <td>548</td>\n",
              "      <td>208500</td>\n",
              "    </tr>\n",
              "    <tr>\n",
              "      <th>1</th>\n",
              "      <td>1Fam</td>\n",
              "      <td>6</td>\n",
              "      <td>1262</td>\n",
              "      <td>460</td>\n",
              "      <td>181500</td>\n",
              "    </tr>\n",
              "    <tr>\n",
              "      <th>2</th>\n",
              "      <td>1Fam</td>\n",
              "      <td>7</td>\n",
              "      <td>1786</td>\n",
              "      <td>608</td>\n",
              "      <td>223500</td>\n",
              "    </tr>\n",
              "    <tr>\n",
              "      <th>3</th>\n",
              "      <td>1Fam</td>\n",
              "      <td>7</td>\n",
              "      <td>1717</td>\n",
              "      <td>642</td>\n",
              "      <td>140000</td>\n",
              "    </tr>\n",
              "    <tr>\n",
              "      <th>4</th>\n",
              "      <td>1Fam</td>\n",
              "      <td>8</td>\n",
              "      <td>2198</td>\n",
              "      <td>836</td>\n",
              "      <td>250000</td>\n",
              "    </tr>\n",
              "    <tr>\n",
              "      <th>...</th>\n",
              "      <td>...</td>\n",
              "      <td>...</td>\n",
              "      <td>...</td>\n",
              "      <td>...</td>\n",
              "      <td>...</td>\n",
              "    </tr>\n",
              "    <tr>\n",
              "      <th>995</th>\n",
              "      <td>1Fam</td>\n",
              "      <td>4</td>\n",
              "      <td>1230</td>\n",
              "      <td>305</td>\n",
              "      <td>121600</td>\n",
              "    </tr>\n",
              "    <tr>\n",
              "      <th>996</th>\n",
              "      <td>1Fam</td>\n",
              "      <td>5</td>\n",
              "      <td>1050</td>\n",
              "      <td>368</td>\n",
              "      <td>136500</td>\n",
              "    </tr>\n",
              "    <tr>\n",
              "      <th>997</th>\n",
              "      <td>1Fam</td>\n",
              "      <td>6</td>\n",
              "      <td>1442</td>\n",
              "      <td>615</td>\n",
              "      <td>185000</td>\n",
              "    </tr>\n",
              "    <tr>\n",
              "      <th>998</th>\n",
              "      <td>1Fam</td>\n",
              "      <td>3</td>\n",
              "      <td>1077</td>\n",
              "      <td>210</td>\n",
              "      <td>91000</td>\n",
              "    </tr>\n",
              "    <tr>\n",
              "      <th>999</th>\n",
              "      <td>1Fam</td>\n",
              "      <td>7</td>\n",
              "      <td>1208</td>\n",
              "      <td>632</td>\n",
              "      <td>206000</td>\n",
              "    </tr>\n",
              "  </tbody>\n",
              "</table>\n",
              "<p>1000 rows × 5 columns</p>\n",
              "</div>"
            ],
            "text/plain": [
              "    BldgType  OverallQual  GrLivArea  GarageArea  SalePrice\n",
              "0       1Fam            7       1710         548     208500\n",
              "1       1Fam            6       1262         460     181500\n",
              "2       1Fam            7       1786         608     223500\n",
              "3       1Fam            7       1717         642     140000\n",
              "4       1Fam            8       2198         836     250000\n",
              "..       ...          ...        ...         ...        ...\n",
              "995     1Fam            4       1230         305     121600\n",
              "996     1Fam            5       1050         368     136500\n",
              "997     1Fam            6       1442         615     185000\n",
              "998     1Fam            3       1077         210      91000\n",
              "999     1Fam            7       1208         632     206000\n",
              "\n",
              "[1000 rows x 5 columns]"
            ]
          },
          "metadata": {
            "tags": []
          },
          "execution_count": 5
        }
      ]
    },
    {
      "cell_type": "code",
      "metadata": {
        "id": "uEcpGYMjrkpP",
        "colab": {
          "base_uri": "https://localhost:8080/"
        },
        "outputId": "5bb57da2-a4b8-4c8f-e4d4-ca409f1d0d3c"
      },
      "source": [
        "# Convert BldgType into one-shot vector of length 5\n",
        "encoder = ce.OneHotEncoder(use_cat_names=True)\n",
        "train_encoded = encoder.fit_transform(train_input)\n",
        "\n",
        "# Split training dataset into train and validation dataset at ratio of 4:1\n",
        "# Further split the train dataset into x_train & y_train and the test dataset into x_test & y_test\n",
        "\n",
        "x_train = train_encoded.sample(frac=0.8,random_state=0)\n",
        "x_test = train_encoded.drop(x_train.index)\n",
        "\n",
        "y_train = x_train.pop('SalePrice')\n",
        "y_test = x_test.pop('SalePrice')"
      ],
      "execution_count": null,
      "outputs": [
        {
          "output_type": "stream",
          "text": [
            "/usr/local/lib/python3.6/dist-packages/category_encoders/utils.py:21: FutureWarning: is_categorical is deprecated and will be removed in a future version.  Use is_categorical_dtype instead\n",
            "  elif pd.api.types.is_categorical(cols):\n"
          ],
          "name": "stderr"
        }
      ]
    },
    {
      "cell_type": "code",
      "metadata": {
        "id": "NpbRCYIi1JPq",
        "colab": {
          "base_uri": "https://localhost:8080/"
        },
        "outputId": "169845b3-dc0a-4135-ea02-d2628fa3a9ba"
      },
      "source": [
        "regressor = LinearRegression()  \n",
        "regressor.fit(x_train, y_train)"
      ],
      "execution_count": null,
      "outputs": [
        {
          "output_type": "execute_result",
          "data": {
            "text/plain": [
              "LinearRegression(copy_X=True, fit_intercept=True, n_jobs=None, normalize=False)"
            ]
          },
          "metadata": {
            "tags": []
          },
          "execution_count": 7
        }
      ]
    },
    {
      "cell_type": "code",
      "metadata": {
        "id": "gZdl5QVEmNJt",
        "colab": {
          "base_uri": "https://localhost:8080/",
          "height": 419
        },
        "outputId": "fddeb3aa-d6a2-4aee-d76c-49a0e1d1cfbd"
      },
      "source": [
        "new_data = train_encoded\n",
        "new_label = new_data.pop('SalePrice')\n",
        "y_pred = regressor.predict(new_data)\n",
        "y_pred = y_pred.astype(int)\n",
        "df = pd.DataFrame({'Actual': new_label, 'Predicted': y_pred.flatten()})\n",
        "df"
      ],
      "execution_count": null,
      "outputs": [
        {
          "output_type": "execute_result",
          "data": {
            "text/html": [
              "<div>\n",
              "<style scoped>\n",
              "    .dataframe tbody tr th:only-of-type {\n",
              "        vertical-align: middle;\n",
              "    }\n",
              "\n",
              "    .dataframe tbody tr th {\n",
              "        vertical-align: top;\n",
              "    }\n",
              "\n",
              "    .dataframe thead th {\n",
              "        text-align: right;\n",
              "    }\n",
              "</style>\n",
              "<table border=\"1\" class=\"dataframe\">\n",
              "  <thead>\n",
              "    <tr style=\"text-align: right;\">\n",
              "      <th></th>\n",
              "      <th>Actual</th>\n",
              "      <th>Predicted</th>\n",
              "    </tr>\n",
              "  </thead>\n",
              "  <tbody>\n",
              "    <tr>\n",
              "      <th>0</th>\n",
              "      <td>208500</td>\n",
              "      <td>225785</td>\n",
              "    </tr>\n",
              "    <tr>\n",
              "      <th>1</th>\n",
              "      <td>181500</td>\n",
              "      <td>166960</td>\n",
              "    </tr>\n",
              "    <tr>\n",
              "      <th>2</th>\n",
              "      <td>223500</td>\n",
              "      <td>234466</td>\n",
              "    </tr>\n",
              "    <tr>\n",
              "      <th>3</th>\n",
              "      <td>140000</td>\n",
              "      <td>233125</td>\n",
              "    </tr>\n",
              "    <tr>\n",
              "      <th>4</th>\n",
              "      <td>250000</td>\n",
              "      <td>301630</td>\n",
              "    </tr>\n",
              "    <tr>\n",
              "      <th>...</th>\n",
              "      <td>...</td>\n",
              "      <td>...</td>\n",
              "    </tr>\n",
              "    <tr>\n",
              "      <th>995</th>\n",
              "      <td>121600</td>\n",
              "      <td>99128</td>\n",
              "    </tr>\n",
              "    <tr>\n",
              "      <th>996</th>\n",
              "      <td>136500</td>\n",
              "      <td>121024</td>\n",
              "    </tr>\n",
              "    <tr>\n",
              "      <th>997</th>\n",
              "      <td>185000</td>\n",
              "      <td>188475</td>\n",
              "    </tr>\n",
              "    <tr>\n",
              "      <th>998</th>\n",
              "      <td>91000</td>\n",
              "      <td>56265</td>\n",
              "    </tr>\n",
              "    <tr>\n",
              "      <th>999</th>\n",
              "      <td>206000</td>\n",
              "      <td>203953</td>\n",
              "    </tr>\n",
              "  </tbody>\n",
              "</table>\n",
              "<p>1000 rows × 2 columns</p>\n",
              "</div>"
            ],
            "text/plain": [
              "     Actual  Predicted\n",
              "0    208500     225785\n",
              "1    181500     166960\n",
              "2    223500     234466\n",
              "3    140000     233125\n",
              "4    250000     301630\n",
              "..      ...        ...\n",
              "995  121600      99128\n",
              "996  136500     121024\n",
              "997  185000     188475\n",
              "998   91000      56265\n",
              "999  206000     203953\n",
              "\n",
              "[1000 rows x 2 columns]"
            ]
          },
          "metadata": {
            "tags": []
          },
          "execution_count": 8
        }
      ]
    },
    {
      "cell_type": "code",
      "metadata": {
        "id": "GMzFEzus8v7x",
        "colab": {
          "base_uri": "https://localhost:8080/"
        },
        "outputId": "7f49f3ce-e894-4f35-f0ce-650429882347"
      },
      "source": [
        "from sklearn.metrics import mean_squared_error, r2_score\n",
        "\n",
        "print('Mean Squared Error: {}'.format(mean_squared_error(df.Actual, df.Predicted)))\n",
        "\n",
        "print('R2 Score: {}'.format(r2_score(df.Actual, df.Predicted)))"
      ],
      "execution_count": null,
      "outputs": [
        {
          "output_type": "stream",
          "text": [
            "Mean Squared Error: 1515894076.692\n",
            "R2 Score: 0.7646212209702702\n"
          ],
          "name": "stdout"
        }
      ]
    }
  ]
}